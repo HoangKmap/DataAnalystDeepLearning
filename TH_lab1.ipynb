{
  "nbformat": 4,
  "nbformat_minor": 0,
  "metadata": {
    "colab": {
      "name": "TH-lab1.ipynb",
      "provenance": [],
      "authorship_tag": "ABX9TyPaXwwV8pZ0SgBqkHFQHDVY",
      "include_colab_link": true
    },
    "kernelspec": {
      "name": "python3",
      "display_name": "Python 3"
    },
    "language_info": {
      "name": "python"
    }
  },
  "cells": [
    {
      "cell_type": "markdown",
      "metadata": {
        "id": "view-in-github",
        "colab_type": "text"
      },
      "source": [
        "<a href=\"https://colab.research.google.com/github/HoangKmap/DataAnalystDeepLearning/blob/main/TH_lab1.ipynb\" target=\"_parent\"><img src=\"https://colab.research.google.com/assets/colab-badge.svg\" alt=\"Open In Colab\"/></a>"
      ]
    },
    {
      "cell_type": "code",
      "metadata": {
        "colab": {
          "base_uri": "https://localhost:8080/"
        },
        "id": "dBdV9r6IlcC1",
        "outputId": "fab0b8a5-1481-4879-c7da-7cb9a57b5f17"
      },
      "source": [
        "import pandas as pd\n",
        "s = pd.Series([12,-4,7,9])\n",
        "print(s)"
      ],
      "execution_count": 2,
      "outputs": [
        {
          "output_type": "stream",
          "name": "stdout",
          "text": [
            "0    12\n",
            "1    -4\n",
            "2     7\n",
            "3     9\n",
            "dtype: int64\n"
          ]
        }
      ]
    },
    {
      "cell_type": "markdown",
      "metadata": {
        "id": "fBN0-ah5lxg7"
      },
      "source": [
        ""
      ]
    },
    {
      "cell_type": "code",
      "metadata": {
        "colab": {
          "base_uri": "https://localhost:8080/"
        },
        "id": "5V1Vti1ol2D3",
        "outputId": "2bd5463f-8fd6-4c1e-e035-da9c5ab90402"
      },
      "source": [
        "import pandas as pd\n",
        "s = pd.Series([12,-4,7,9], index=['a', 'b', 'c', 'd'])\n",
        "print (s)"
      ],
      "execution_count": 3,
      "outputs": [
        {
          "output_type": "stream",
          "name": "stdout",
          "text": [
            "a    12\n",
            "b    -4\n",
            "c     7\n",
            "d     9\n",
            "dtype: int64\n"
          ]
        }
      ]
    },
    {
      "cell_type": "code",
      "metadata": {
        "colab": {
          "base_uri": "https://localhost:8080/"
        },
        "id": "CYQ9ZUM1l7pP",
        "outputId": "fb050a2e-98e0-46e8-d2d6-9a8034623222"
      },
      "source": [
        "\n",
        "s.values"
      ],
      "execution_count": 4,
      "outputs": [
        {
          "output_type": "execute_result",
          "data": {
            "text/plain": [
              "array([12, -4,  7,  9])"
            ]
          },
          "metadata": {},
          "execution_count": 4
        }
      ]
    },
    {
      "cell_type": "code",
      "metadata": {
        "colab": {
          "base_uri": "https://localhost:8080/"
        },
        "id": "iMYOBCj9l96c",
        "outputId": "b6324fd0-7b19-4b15-8942-0560c93eb606"
      },
      "source": [
        "s.index"
      ],
      "execution_count": 5,
      "outputs": [
        {
          "output_type": "execute_result",
          "data": {
            "text/plain": [
              "Index(['a', 'b', 'c', 'd'], dtype='object')"
            ]
          },
          "metadata": {},
          "execution_count": 5
        }
      ]
    },
    {
      "cell_type": "code",
      "metadata": {
        "colab": {
          "base_uri": "https://localhost:8080/",
          "height": 204
        },
        "id": "mxXo-YDnmXGq",
        "outputId": "3ad22cff-2c47-4214-c197-00a9217973d0"
      },
      "source": [
        "data ={'color' : ['blue', 'green', 'yellow', 'red', 'white'],\n",
        "\t'object': ['ball', 'pen', 'pencil', 'paper', 'mug'],\n",
        "\t'price': [1.2, 1.0, 0.6,0.9,1.7]}\n",
        "frame = pd.DataFrame(data)\n",
        "frame"
      ],
      "execution_count": 6,
      "outputs": [
        {
          "output_type": "execute_result",
          "data": {
            "text/html": [
              "<div>\n",
              "<style scoped>\n",
              "    .dataframe tbody tr th:only-of-type {\n",
              "        vertical-align: middle;\n",
              "    }\n",
              "\n",
              "    .dataframe tbody tr th {\n",
              "        vertical-align: top;\n",
              "    }\n",
              "\n",
              "    .dataframe thead th {\n",
              "        text-align: right;\n",
              "    }\n",
              "</style>\n",
              "<table border=\"1\" class=\"dataframe\">\n",
              "  <thead>\n",
              "    <tr style=\"text-align: right;\">\n",
              "      <th></th>\n",
              "      <th>color</th>\n",
              "      <th>object</th>\n",
              "      <th>price</th>\n",
              "    </tr>\n",
              "  </thead>\n",
              "  <tbody>\n",
              "    <tr>\n",
              "      <th>0</th>\n",
              "      <td>blue</td>\n",
              "      <td>ball</td>\n",
              "      <td>1.2</td>\n",
              "    </tr>\n",
              "    <tr>\n",
              "      <th>1</th>\n",
              "      <td>green</td>\n",
              "      <td>pen</td>\n",
              "      <td>1.0</td>\n",
              "    </tr>\n",
              "    <tr>\n",
              "      <th>2</th>\n",
              "      <td>yellow</td>\n",
              "      <td>pencil</td>\n",
              "      <td>0.6</td>\n",
              "    </tr>\n",
              "    <tr>\n",
              "      <th>3</th>\n",
              "      <td>red</td>\n",
              "      <td>paper</td>\n",
              "      <td>0.9</td>\n",
              "    </tr>\n",
              "    <tr>\n",
              "      <th>4</th>\n",
              "      <td>white</td>\n",
              "      <td>mug</td>\n",
              "      <td>1.7</td>\n",
              "    </tr>\n",
              "  </tbody>\n",
              "</table>\n",
              "</div>"
            ],
            "text/plain": [
              "    color  object  price\n",
              "0    blue    ball    1.2\n",
              "1   green     pen    1.0\n",
              "2  yellow  pencil    0.6\n",
              "3     red   paper    0.9\n",
              "4   white     mug    1.7"
            ]
          },
          "metadata": {},
          "execution_count": 6
        }
      ]
    },
    {
      "cell_type": "code",
      "metadata": {
        "colab": {
          "base_uri": "https://localhost:8080/",
          "height": 204
        },
        "id": "e4JAltj2nBup",
        "outputId": "8d609c4e-2e39-4e3b-9947-9cf02d3ea24a"
      },
      "source": [
        "frame2 = pd.DataFrame (data, columns = ['object', 'price'])\n",
        "frame2"
      ],
      "execution_count": 7,
      "outputs": [
        {
          "output_type": "execute_result",
          "data": {
            "text/html": [
              "<div>\n",
              "<style scoped>\n",
              "    .dataframe tbody tr th:only-of-type {\n",
              "        vertical-align: middle;\n",
              "    }\n",
              "\n",
              "    .dataframe tbody tr th {\n",
              "        vertical-align: top;\n",
              "    }\n",
              "\n",
              "    .dataframe thead th {\n",
              "        text-align: right;\n",
              "    }\n",
              "</style>\n",
              "<table border=\"1\" class=\"dataframe\">\n",
              "  <thead>\n",
              "    <tr style=\"text-align: right;\">\n",
              "      <th></th>\n",
              "      <th>object</th>\n",
              "      <th>price</th>\n",
              "    </tr>\n",
              "  </thead>\n",
              "  <tbody>\n",
              "    <tr>\n",
              "      <th>0</th>\n",
              "      <td>ball</td>\n",
              "      <td>1.2</td>\n",
              "    </tr>\n",
              "    <tr>\n",
              "      <th>1</th>\n",
              "      <td>pen</td>\n",
              "      <td>1.0</td>\n",
              "    </tr>\n",
              "    <tr>\n",
              "      <th>2</th>\n",
              "      <td>pencil</td>\n",
              "      <td>0.6</td>\n",
              "    </tr>\n",
              "    <tr>\n",
              "      <th>3</th>\n",
              "      <td>paper</td>\n",
              "      <td>0.9</td>\n",
              "    </tr>\n",
              "    <tr>\n",
              "      <th>4</th>\n",
              "      <td>mug</td>\n",
              "      <td>1.7</td>\n",
              "    </tr>\n",
              "  </tbody>\n",
              "</table>\n",
              "</div>"
            ],
            "text/plain": [
              "   object  price\n",
              "0    ball    1.2\n",
              "1     pen    1.0\n",
              "2  pencil    0.6\n",
              "3   paper    0.9\n",
              "4     mug    1.7"
            ]
          },
          "metadata": {},
          "execution_count": 7
        }
      ]
    },
    {
      "cell_type": "code",
      "metadata": {
        "colab": {
          "base_uri": "https://localhost:8080/",
          "height": 204
        },
        "id": "Cj1VppEmnEsa",
        "outputId": "9134d2c3-4db4-4f46-9821-f1292feaf6b1"
      },
      "source": [
        "frame2['type'] ='normal'\n",
        "frame2"
      ],
      "execution_count": 8,
      "outputs": [
        {
          "output_type": "execute_result",
          "data": {
            "text/html": [
              "<div>\n",
              "<style scoped>\n",
              "    .dataframe tbody tr th:only-of-type {\n",
              "        vertical-align: middle;\n",
              "    }\n",
              "\n",
              "    .dataframe tbody tr th {\n",
              "        vertical-align: top;\n",
              "    }\n",
              "\n",
              "    .dataframe thead th {\n",
              "        text-align: right;\n",
              "    }\n",
              "</style>\n",
              "<table border=\"1\" class=\"dataframe\">\n",
              "  <thead>\n",
              "    <tr style=\"text-align: right;\">\n",
              "      <th></th>\n",
              "      <th>object</th>\n",
              "      <th>price</th>\n",
              "      <th>type</th>\n",
              "    </tr>\n",
              "  </thead>\n",
              "  <tbody>\n",
              "    <tr>\n",
              "      <th>0</th>\n",
              "      <td>ball</td>\n",
              "      <td>1.2</td>\n",
              "      <td>normal</td>\n",
              "    </tr>\n",
              "    <tr>\n",
              "      <th>1</th>\n",
              "      <td>pen</td>\n",
              "      <td>1.0</td>\n",
              "      <td>normal</td>\n",
              "    </tr>\n",
              "    <tr>\n",
              "      <th>2</th>\n",
              "      <td>pencil</td>\n",
              "      <td>0.6</td>\n",
              "      <td>normal</td>\n",
              "    </tr>\n",
              "    <tr>\n",
              "      <th>3</th>\n",
              "      <td>paper</td>\n",
              "      <td>0.9</td>\n",
              "      <td>normal</td>\n",
              "    </tr>\n",
              "    <tr>\n",
              "      <th>4</th>\n",
              "      <td>mug</td>\n",
              "      <td>1.7</td>\n",
              "      <td>normal</td>\n",
              "    </tr>\n",
              "  </tbody>\n",
              "</table>\n",
              "</div>"
            ],
            "text/plain": [
              "   object  price    type\n",
              "0    ball    1.2  normal\n",
              "1     pen    1.0  normal\n",
              "2  pencil    0.6  normal\n",
              "3   paper    0.9  normal\n",
              "4     mug    1.7  normal"
            ]
          },
          "metadata": {},
          "execution_count": 8
        }
      ]
    },
    {
      "cell_type": "code",
      "metadata": {
        "colab": {
          "base_uri": "https://localhost:8080/",
          "height": 204
        },
        "id": "CqcbHy8gnJYT",
        "outputId": "bfe4b286-ac94-4de6-f451-0bf111b3baa7"
      },
      "source": [
        "for i in range(len(frame2)):\n",
        "  if frame2['price'][i] > 1.0:\n",
        "    frame2.loc[i, 'type'] = 'good'\n",
        "frame2\n"
      ],
      "execution_count": 9,
      "outputs": [
        {
          "output_type": "execute_result",
          "data": {
            "text/html": [
              "<div>\n",
              "<style scoped>\n",
              "    .dataframe tbody tr th:only-of-type {\n",
              "        vertical-align: middle;\n",
              "    }\n",
              "\n",
              "    .dataframe tbody tr th {\n",
              "        vertical-align: top;\n",
              "    }\n",
              "\n",
              "    .dataframe thead th {\n",
              "        text-align: right;\n",
              "    }\n",
              "</style>\n",
              "<table border=\"1\" class=\"dataframe\">\n",
              "  <thead>\n",
              "    <tr style=\"text-align: right;\">\n",
              "      <th></th>\n",
              "      <th>object</th>\n",
              "      <th>price</th>\n",
              "      <th>type</th>\n",
              "    </tr>\n",
              "  </thead>\n",
              "  <tbody>\n",
              "    <tr>\n",
              "      <th>0</th>\n",
              "      <td>ball</td>\n",
              "      <td>1.2</td>\n",
              "      <td>good</td>\n",
              "    </tr>\n",
              "    <tr>\n",
              "      <th>1</th>\n",
              "      <td>pen</td>\n",
              "      <td>1.0</td>\n",
              "      <td>normal</td>\n",
              "    </tr>\n",
              "    <tr>\n",
              "      <th>2</th>\n",
              "      <td>pencil</td>\n",
              "      <td>0.6</td>\n",
              "      <td>normal</td>\n",
              "    </tr>\n",
              "    <tr>\n",
              "      <th>3</th>\n",
              "      <td>paper</td>\n",
              "      <td>0.9</td>\n",
              "      <td>normal</td>\n",
              "    </tr>\n",
              "    <tr>\n",
              "      <th>4</th>\n",
              "      <td>mug</td>\n",
              "      <td>1.7</td>\n",
              "      <td>good</td>\n",
              "    </tr>\n",
              "  </tbody>\n",
              "</table>\n",
              "</div>"
            ],
            "text/plain": [
              "   object  price    type\n",
              "0    ball    1.2    good\n",
              "1     pen    1.0  normal\n",
              "2  pencil    0.6  normal\n",
              "3   paper    0.9  normal\n",
              "4     mug    1.7    good"
            ]
          },
          "metadata": {},
          "execution_count": 9
        }
      ]
    },
    {
      "cell_type": "code",
      "metadata": {
        "colab": {
          "base_uri": "https://localhost:8080/",
          "height": 204
        },
        "id": "ML2i2g2wnLi6",
        "outputId": "d546202a-2d6e-44c6-cdaa-d1b45883ac83"
      },
      "source": [
        "frame2['discount'] = frame2['price']*0.02\n",
        "frame2"
      ],
      "execution_count": 10,
      "outputs": [
        {
          "output_type": "execute_result",
          "data": {
            "text/html": [
              "<div>\n",
              "<style scoped>\n",
              "    .dataframe tbody tr th:only-of-type {\n",
              "        vertical-align: middle;\n",
              "    }\n",
              "\n",
              "    .dataframe tbody tr th {\n",
              "        vertical-align: top;\n",
              "    }\n",
              "\n",
              "    .dataframe thead th {\n",
              "        text-align: right;\n",
              "    }\n",
              "</style>\n",
              "<table border=\"1\" class=\"dataframe\">\n",
              "  <thead>\n",
              "    <tr style=\"text-align: right;\">\n",
              "      <th></th>\n",
              "      <th>object</th>\n",
              "      <th>price</th>\n",
              "      <th>type</th>\n",
              "      <th>discount</th>\n",
              "    </tr>\n",
              "  </thead>\n",
              "  <tbody>\n",
              "    <tr>\n",
              "      <th>0</th>\n",
              "      <td>ball</td>\n",
              "      <td>1.2</td>\n",
              "      <td>good</td>\n",
              "      <td>0.024</td>\n",
              "    </tr>\n",
              "    <tr>\n",
              "      <th>1</th>\n",
              "      <td>pen</td>\n",
              "      <td>1.0</td>\n",
              "      <td>normal</td>\n",
              "      <td>0.020</td>\n",
              "    </tr>\n",
              "    <tr>\n",
              "      <th>2</th>\n",
              "      <td>pencil</td>\n",
              "      <td>0.6</td>\n",
              "      <td>normal</td>\n",
              "      <td>0.012</td>\n",
              "    </tr>\n",
              "    <tr>\n",
              "      <th>3</th>\n",
              "      <td>paper</td>\n",
              "      <td>0.9</td>\n",
              "      <td>normal</td>\n",
              "      <td>0.018</td>\n",
              "    </tr>\n",
              "    <tr>\n",
              "      <th>4</th>\n",
              "      <td>mug</td>\n",
              "      <td>1.7</td>\n",
              "      <td>good</td>\n",
              "      <td>0.034</td>\n",
              "    </tr>\n",
              "  </tbody>\n",
              "</table>\n",
              "</div>"
            ],
            "text/plain": [
              "   object  price    type  discount\n",
              "0    ball    1.2    good     0.024\n",
              "1     pen    1.0  normal     0.020\n",
              "2  pencil    0.6  normal     0.012\n",
              "3   paper    0.9  normal     0.018\n",
              "4     mug    1.7    good     0.034"
            ]
          },
          "metadata": {},
          "execution_count": 10
        }
      ]
    },
    {
      "cell_type": "code",
      "metadata": {
        "colab": {
          "base_uri": "https://localhost:8080/",
          "height": 204
        },
        "id": "cpbhtVRbnPdc",
        "outputId": "18f0564d-b2c0-4b4c-b1dc-1897c7a9d580"
      },
      "source": [
        "frame2['discount'] = frame2['price']*0.02\n",
        "frame2"
      ],
      "execution_count": 11,
      "outputs": [
        {
          "output_type": "execute_result",
          "data": {
            "text/html": [
              "<div>\n",
              "<style scoped>\n",
              "    .dataframe tbody tr th:only-of-type {\n",
              "        vertical-align: middle;\n",
              "    }\n",
              "\n",
              "    .dataframe tbody tr th {\n",
              "        vertical-align: top;\n",
              "    }\n",
              "\n",
              "    .dataframe thead th {\n",
              "        text-align: right;\n",
              "    }\n",
              "</style>\n",
              "<table border=\"1\" class=\"dataframe\">\n",
              "  <thead>\n",
              "    <tr style=\"text-align: right;\">\n",
              "      <th></th>\n",
              "      <th>object</th>\n",
              "      <th>price</th>\n",
              "      <th>type</th>\n",
              "      <th>discount</th>\n",
              "    </tr>\n",
              "  </thead>\n",
              "  <tbody>\n",
              "    <tr>\n",
              "      <th>0</th>\n",
              "      <td>ball</td>\n",
              "      <td>1.2</td>\n",
              "      <td>good</td>\n",
              "      <td>0.024</td>\n",
              "    </tr>\n",
              "    <tr>\n",
              "      <th>1</th>\n",
              "      <td>pen</td>\n",
              "      <td>1.0</td>\n",
              "      <td>normal</td>\n",
              "      <td>0.020</td>\n",
              "    </tr>\n",
              "    <tr>\n",
              "      <th>2</th>\n",
              "      <td>pencil</td>\n",
              "      <td>0.6</td>\n",
              "      <td>normal</td>\n",
              "      <td>0.012</td>\n",
              "    </tr>\n",
              "    <tr>\n",
              "      <th>3</th>\n",
              "      <td>paper</td>\n",
              "      <td>0.9</td>\n",
              "      <td>normal</td>\n",
              "      <td>0.018</td>\n",
              "    </tr>\n",
              "    <tr>\n",
              "      <th>4</th>\n",
              "      <td>mug</td>\n",
              "      <td>1.7</td>\n",
              "      <td>good</td>\n",
              "      <td>0.034</td>\n",
              "    </tr>\n",
              "  </tbody>\n",
              "</table>\n",
              "</div>"
            ],
            "text/plain": [
              "   object  price    type  discount\n",
              "0    ball    1.2    good     0.024\n",
              "1     pen    1.0  normal     0.020\n",
              "2  pencil    0.6  normal     0.012\n",
              "3   paper    0.9  normal     0.018\n",
              "4     mug    1.7    good     0.034"
            ]
          },
          "metadata": {},
          "execution_count": 11
        }
      ]
    },
    {
      "cell_type": "code",
      "metadata": {
        "colab": {
          "base_uri": "https://localhost:8080/"
        },
        "id": "x16C5Yw4nRZ5",
        "outputId": "d0602d81-45f4-4282-a01b-9fd568c44d8d"
      },
      "source": [
        "import pandas as pd\n",
        "dulieuxettuyen = pd.read_csv(\"https://raw.githubusercontent.com/huynhhoc/DataAnalystDeepLearning/main/Data/dulieuxettuyendaihoc.csv\")\n",
        "print (dulieuxettuyen.head(10))"
      ],
      "execution_count": 12,
      "outputs": [
        {
          "output_type": "stream",
          "name": "stdout",
          "text": [
            "   STT   T1   L1   H1   S1   V1   X1  ...  GT  DT   KV   DH1   DH2   DH3  KT\n",
            "0    1  7.2  7.3  6.3  7.3  7.0  7.9  ...   F NaN  2NT  3.25  3.25  4.50  A1\n",
            "1    2  5.4  3.9  3.9  4.0  5.4  5.4  ...   M NaN    1  6.00  4.00  3.50   C\n",
            "2    3  5.6  6.8  7.2  7.5  4.3  7.4  ...   M NaN    1  5.00  6.75  4.00   C\n",
            "3    4  6.6  6.4  5.3  6.9  5.4  7.3  ...   M NaN    1  4.25  4.25  5.25  D1\n",
            "4    5  6.0  5.0  6.0  7.3  6.5  7.7  ...   M NaN  2NT  4.25  4.50  5.00   A\n",
            "5    6  9.3  7.6  7.9  8.6  7.0  7.3  ...   M NaN    1  1.50  4.00  6.00  D1\n",
            "6    7  2.8  3.9  5.5  6.9  5.0  7.3  ...   F NaN    2  6.50  6.75  5.25   C\n",
            "7    8  8.3  6.0  7.6  5.1  7.5  4.7  ...   F NaN    2  3.75  4.50  4.25  D1\n",
            "8    9  6.5  6.3  7.6  6.0  5.5  7.1  ...   F NaN    1  3.50  3.50  6.75  D1\n",
            "9   10  7.3  5.9  4.7  7.1  6.7  7.9  ...   F NaN    1  4.00  4.75  5.50  D1\n",
            "\n",
            "[10 rows x 56 columns]\n"
          ]
        }
      ]
    },
    {
      "cell_type": "code",
      "metadata": {
        "colab": {
          "base_uri": "https://localhost:8080/"
        },
        "id": "FY_g57yEncx0",
        "outputId": "fd792ff9-fa28-48d0-cc8f-cd1799568c68"
      },
      "source": [
        "import pandas as pd\n",
        "import numpy as np\n",
        "frame = pd.DataFrame(np.arange(16).reshape(4,4),\n",
        "\t\tindex =['white', 'black', 'red','blue'],\n",
        "\t\tcolumns =['up', 'down', 'right', 'left'])\n",
        "frame.to_json('frame.json')\n",
        "#Read json-formatted data\n",
        "jsonFrame = pd.read_json('frame.json')\n",
        "print(jsonFrame)"
      ],
      "execution_count": 13,
      "outputs": [
        {
          "output_type": "stream",
          "name": "stdout",
          "text": [
            "       up  down  right  left\n",
            "white   0     1      2     3\n",
            "black   4     5      6     7\n",
            "red     8     9     10    11\n",
            "blue   12    13     14    15\n"
          ]
        }
      ]
    },
    {
      "cell_type": "code",
      "metadata": {
        "colab": {
          "base_uri": "https://localhost:8080/"
        },
        "id": "8cgN1J5snrLu",
        "outputId": "f129c2f9-88d3-4b50-8e5a-7dd434b3f459"
      },
      "source": [
        "import pandas as pd\n",
        "example11 = pd.read_table('https://raw.githubusercontent.com/huynhhoc/DataAnalystDeepLearning/main/Data/example11.txt', sep='\\D+', header=None, engine='python')\n",
        "print (example11)"
      ],
      "execution_count": 14,
      "outputs": [
        {
          "output_type": "stream",
          "name": "stdout",
          "text": [
            "   0    1    2\n",
            "0  0  123  122\n",
            "1  1  124  321\n",
            "2  2  125  333\n"
          ]
        }
      ]
    },
    {
      "cell_type": "code",
      "metadata": {
        "colab": {
          "base_uri": "https://localhost:8080/"
        },
        "id": "i8LCfX_rnzNR",
        "outputId": "cd31d9ac-3deb-4402-a444-752f577fc6ae"
      },
      "source": [
        "import pandas as pd\n",
        "example12 = pd.read_table('https://raw.githubusercontent.com/huynhhoc/DataAnalystDeepLearning/main/Data/example12.txt', sep=',', skiprows=[0,1,3,6])\n",
        "print (example12)"
      ],
      "execution_count": 15,
      "outputs": [
        {
          "output_type": "stream",
          "name": "stdout",
          "text": [
            "   white  red  blue  green animal\n",
            "0      1    5     2      3    cat\n",
            "1      2    7     8      5    dog\n",
            "2      3    3     6      7  horse\n",
            "3      2    2     8      3   duck\n",
            "4      4    4     2      1  mouse\n"
          ]
        }
      ]
    },
    {
      "cell_type": "code",
      "metadata": {
        "colab": {
          "base_uri": "https://localhost:8080/"
        },
        "id": "bqciDwV2qDiB",
        "outputId": "4d6876ba-78c7-44c4-8369-b8f9fd1f4ece"
      },
      "source": [
        "import pandas as pd\n",
        "example13 = pd.read_table('https://raw.githubusercontent.com/huynhhoc/DataAnalystDeepLearning/main/Data/example13.txt', skiprows=[2], nrows=3)\n",
        "print (example13)"
      ],
      "execution_count": 18,
      "outputs": [
        {
          "output_type": "stream",
          "name": "stdout",
          "text": [
            "  white,red,blue,green,animal\n",
            "0                 1,5,2,3,cat\n",
            "1               3,3,6,7,horse\n",
            "2                2,2,8,3,duck\n"
          ]
        }
      ]
    }
  ]
}