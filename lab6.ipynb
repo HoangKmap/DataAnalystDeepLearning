{
  "nbformat": 4,
  "nbformat_minor": 0,
  "metadata": {
    "colab": {
      "name": "lab6.ipynb",
      "provenance": [],
      "toc_visible": true,
      "authorship_tag": "ABX9TyPdkGt/vh2yBDJWldTRojNl",
      "include_colab_link": true
    },
    "kernelspec": {
      "name": "python3",
      "display_name": "Python 3"
    },
    "language_info": {
      "name": "python"
    }
  },
  "cells": [
    {
      "cell_type": "markdown",
      "metadata": {
        "id": "view-in-github",
        "colab_type": "text"
      },
      "source": [
        "<a href=\"https://colab.research.google.com/github/HoangKmap/DataAnalystDeepLearning/blob/main/lab6.ipynb\" target=\"_parent\"><img src=\"https://colab.research.google.com/assets/colab-badge.svg\" alt=\"Open In Colab\"/></a>"
      ]
    },
    {
      "cell_type": "code",
      "metadata": {
        "id": "XnlDKuti7aYS"
      },
      "source": [
        "import pandas as pd\n",
        "import numpy as np\n",
        "import matplotlib.pyplot as plt\n",
        "from scipy.stats import  pearsonr\n",
        "from scipy import stats"
      ],
      "execution_count": 2,
      "outputs": []
    },
    {
      "cell_type": "code",
      "metadata": {
        "colab": {
          "base_uri": "https://localhost:8080/",
          "height": 419
        },
        "id": "UeqaRBOY_Drt",
        "outputId": "89f59677-d9ee-4111-8685-a4288f3d631a"
      },
      "source": [
        "dl = pd.read_csv('https://raw.githubusercontent.com/huynhhoc/DataAnalystDeepLearning/main/Data/crabs.txt', sep='\\s+')\n",
        "dl"
      ],
      "execution_count": 3,
      "outputs": [
        {
          "output_type": "execute_result",
          "data": {
            "text/html": [
              "<div>\n",
              "<style scoped>\n",
              "    .dataframe tbody tr th:only-of-type {\n",
              "        vertical-align: middle;\n",
              "    }\n",
              "\n",
              "    .dataframe tbody tr th {\n",
              "        vertical-align: top;\n",
              "    }\n",
              "\n",
              "    .dataframe thead th {\n",
              "        text-align: right;\n",
              "    }\n",
              "</style>\n",
              "<table border=\"1\" class=\"dataframe\">\n",
              "  <thead>\n",
              "    <tr style=\"text-align: right;\">\n",
              "      <th></th>\n",
              "      <th>presz</th>\n",
              "      <th>postsz</th>\n",
              "      <th>inc</th>\n",
              "      <th>year</th>\n",
              "      <th>lf</th>\n",
              "    </tr>\n",
              "  </thead>\n",
              "  <tbody>\n",
              "    <tr>\n",
              "      <th>0</th>\n",
              "      <td>113.6</td>\n",
              "      <td>127.7</td>\n",
              "      <td>14.1</td>\n",
              "      <td>NaN</td>\n",
              "      <td>0</td>\n",
              "    </tr>\n",
              "    <tr>\n",
              "      <th>1</th>\n",
              "      <td>118.1</td>\n",
              "      <td>133.2</td>\n",
              "      <td>15.1</td>\n",
              "      <td>NaN</td>\n",
              "      <td>0</td>\n",
              "    </tr>\n",
              "    <tr>\n",
              "      <th>2</th>\n",
              "      <td>119.9</td>\n",
              "      <td>135.3</td>\n",
              "      <td>15.4</td>\n",
              "      <td>NaN</td>\n",
              "      <td>0</td>\n",
              "    </tr>\n",
              "    <tr>\n",
              "      <th>3</th>\n",
              "      <td>126.2</td>\n",
              "      <td>143.3</td>\n",
              "      <td>17.1</td>\n",
              "      <td>NaN</td>\n",
              "      <td>0</td>\n",
              "    </tr>\n",
              "    <tr>\n",
              "      <th>4</th>\n",
              "      <td>126.7</td>\n",
              "      <td>139.3</td>\n",
              "      <td>12.6</td>\n",
              "      <td>NaN</td>\n",
              "      <td>0</td>\n",
              "    </tr>\n",
              "    <tr>\n",
              "      <th>...</th>\n",
              "      <td>...</td>\n",
              "      <td>...</td>\n",
              "      <td>...</td>\n",
              "      <td>...</td>\n",
              "      <td>...</td>\n",
              "    </tr>\n",
              "    <tr>\n",
              "      <th>467</th>\n",
              "      <td>135.9</td>\n",
              "      <td>150.3</td>\n",
              "      <td>14.4</td>\n",
              "      <td>92.0</td>\n",
              "      <td>1</td>\n",
              "    </tr>\n",
              "    <tr>\n",
              "      <th>468</th>\n",
              "      <td>135.6</td>\n",
              "      <td>151.2</td>\n",
              "      <td>15.6</td>\n",
              "      <td>92.0</td>\n",
              "      <td>1</td>\n",
              "    </tr>\n",
              "    <tr>\n",
              "      <th>469</th>\n",
              "      <td>129.6</td>\n",
              "      <td>143.5</td>\n",
              "      <td>13.9</td>\n",
              "      <td>92.0</td>\n",
              "      <td>1</td>\n",
              "    </tr>\n",
              "    <tr>\n",
              "      <th>470</th>\n",
              "      <td>134.1</td>\n",
              "      <td>148.3</td>\n",
              "      <td>14.2</td>\n",
              "      <td>92.0</td>\n",
              "      <td>1</td>\n",
              "    </tr>\n",
              "    <tr>\n",
              "      <th>471</th>\n",
              "      <td>114.4</td>\n",
              "      <td>129.2</td>\n",
              "      <td>14.8</td>\n",
              "      <td>92.0</td>\n",
              "      <td>1</td>\n",
              "    </tr>\n",
              "  </tbody>\n",
              "</table>\n",
              "<p>472 rows × 5 columns</p>\n",
              "</div>"
            ],
            "text/plain": [
              "     presz  postsz   inc  year  lf\n",
              "0    113.6   127.7  14.1   NaN   0\n",
              "1    118.1   133.2  15.1   NaN   0\n",
              "2    119.9   135.3  15.4   NaN   0\n",
              "3    126.2   143.3  17.1   NaN   0\n",
              "4    126.7   139.3  12.6   NaN   0\n",
              "..     ...     ...   ...   ...  ..\n",
              "467  135.9   150.3  14.4  92.0   1\n",
              "468  135.6   151.2  15.6  92.0   1\n",
              "469  129.6   143.5  13.9  92.0   1\n",
              "470  134.1   148.3  14.2  92.0   1\n",
              "471  114.4   129.2  14.8  92.0   1\n",
              "\n",
              "[472 rows x 5 columns]"
            ]
          },
          "metadata": {},
          "execution_count": 3
        }
      ]
    },
    {
      "cell_type": "code",
      "metadata": {
        "colab": {
          "base_uri": "https://localhost:8080/",
          "height": 265
        },
        "id": "96vMlDZX_Goz",
        "outputId": "2825c45f-48ff-4b7d-c4c5-ef40adc5dd6a"
      },
      "source": [
        "x = dl['presz']\n",
        "y = dl['postsz']\n",
        "colors = dl['lf']\n",
        "\n",
        "plt.scatter(x, y, c = colors)\n",
        "plt.show()"
      ],
      "execution_count": 4,
      "outputs": [
        {
          "output_type": "display_data",
          "data": {
            "image/png": "[encoded data removed]",
            "text/plain": [
              "<Figure size 432x288 with 1 Axes>"
            ]
          },
          "metadata": {
            "needs_background": "light"
          }
        }
      ]
    },
    {
      "cell_type": "code",
      "metadata": {
        "colab": {
          "base_uri": "https://localhost:8080/"
        },
        "id": "t1GEXBSw_Iyg",
        "outputId": "30fee648-0417-425f-9093-c861033ab3ac"
      },
      "source": [
        "from scipy import stats\n",
        "a=dl['presz']\n",
        "b=dl['postsz']\n",
        "stats.pearsonr(a,b)"
      ],
      "execution_count": 5,
      "outputs": [
        {
          "output_type": "execute_result",
          "data": {
            "text/plain": [
              "(0.9903699282533854, 0.0)"
            ]
          },
          "metadata": {},
          "execution_count": 5
        }
      ]
    },
    {
      "cell_type": "code",
      "metadata": {
        "id": "jyNc7bYN_LXI"
      },
      "source": [
        "import numpy as np\n",
        "from sklearn.linear_model import LinearRegression\n",
        "\n",
        "x = dl['presz']\n",
        "y = dl['postsz']\n",
        "x, y = np.array(x), np.array(y)"
      ],
      "execution_count": 6,
      "outputs": []
    },
    {
      "cell_type": "code",
      "metadata": {
        "colab": {
          "base_uri": "https://localhost:8080/",
          "height": 1000
        },
        "id": "0VrccEsl_Nlg",
        "outputId": "1c6117bd-67d7-4af8-a13f-1d4715f1a540"
      },
      "source": [
        "model = LinearRegression().fit(x, y)"
      ],
      "execution_count": 7,
      "outputs": [
        {
          "output_type": "error",
          "ename": "ValueError",
          "evalue": "ignored",
          "traceback": [
            "\u001b[0;31m---------------------------------------------------------------------------\u001b[0m",
            "\u001b[0;31mValueError\u001b[0m                                Traceback (most recent call last)",
            "\u001b[0;32m<ipython-input-7-40387b73b14c>\u001b[0m in \u001b[0;36m<module>\u001b[0;34m()\u001b[0m\n\u001b[0;32m----> 1\u001b[0;31m \u001b[0mmodel\u001b[0m \u001b[0;34m=\u001b[0m \u001b[0mLinearRegression\u001b[0m\u001b[0;34m(\u001b[0m\u001b[0;34m)\u001b[0m\u001b[0;34m.\u001b[0m\u001b[0mfit\u001b[0m\u001b[0;34m(\u001b[0m\u001b[0mx\u001b[0m\u001b[0;34m,\u001b[0m \u001b[0my\u001b[0m\u001b[0;34m)\u001b[0m\u001b[0;34m\u001b[0m\u001b[0;34m\u001b[0m\u001b[0m\n\u001b[0m",
            "\u001b[0;32m/usr/local/lib/python3.7/dist-packages/sklearn/linear_model/_base.py\u001b[0m in \u001b[0;36mfit\u001b[0;34m(self, X, y, sample_weight)\u001b[0m\n\u001b[1;32m    490\u001b[0m         \u001b[0mn_jobs_\u001b[0m \u001b[0;34m=\u001b[0m \u001b[0mself\u001b[0m\u001b[0;34m.\u001b[0m\u001b[0mn_jobs\u001b[0m\u001b[0;34m\u001b[0m\u001b[0;34m\u001b[0m\u001b[0m\n\u001b[1;32m    491\u001b[0m         X, y = check_X_y(X, y, accept_sparse=['csr', 'csc', 'coo'],\n\u001b[0;32m--> 492\u001b[0;31m                          y_numeric=True, multi_output=True)\n\u001b[0m\u001b[1;32m    493\u001b[0m \u001b[0;34m\u001b[0m\u001b[0m\n\u001b[1;32m    494\u001b[0m         \u001b[0;32mif\u001b[0m \u001b[0msample_weight\u001b[0m \u001b[0;32mis\u001b[0m \u001b[0;32mnot\u001b[0m \u001b[0;32mNone\u001b[0m\u001b[0;34m:\u001b[0m\u001b[0;34m\u001b[0m\u001b[0;34m\u001b[0m\u001b[0m\n",
            "\u001b[0;32m/usr/local/lib/python3.7/dist-packages/sklearn/utils/validation.py\u001b[0m in \u001b[0;36mcheck_X_y\u001b[0;34m(X, y, accept_sparse, accept_large_sparse, dtype, order, copy, force_all_finite, ensure_2d, allow_nd, multi_output, ensure_min_samples, ensure_min_features, y_numeric, warn_on_dtype, estimator)\u001b[0m\n\u001b[1;32m    753\u001b[0m                     \u001b[0mensure_min_features\u001b[0m\u001b[0;34m=\u001b[0m\u001b[0mensure_min_features\u001b[0m\u001b[0;34m,\u001b[0m\u001b[0;34m\u001b[0m\u001b[0;34m\u001b[0m\u001b[0m\n\u001b[1;32m    754\u001b[0m                     \u001b[0mwarn_on_dtype\u001b[0m\u001b[0;34m=\u001b[0m\u001b[0mwarn_on_dtype\u001b[0m\u001b[0;34m,\u001b[0m\u001b[0;34m\u001b[0m\u001b[0;34m\u001b[0m\u001b[0m\n\u001b[0;32m--> 755\u001b[0;31m                     estimator=estimator)\n\u001b[0m\u001b[1;32m    756\u001b[0m     \u001b[0;32mif\u001b[0m \u001b[0mmulti_output\u001b[0m\u001b[0;34m:\u001b[0m\u001b[0;34m\u001b[0m\u001b[0;34m\u001b[0m\u001b[0m\n\u001b[1;32m    757\u001b[0m         y = check_array(y, 'csr', force_all_finite=True, ensure_2d=False,\n",
            "\u001b[0;32m/usr/local/lib/python3.7/dist-packages/sklearn/utils/validation.py\u001b[0m in \u001b[0;36mcheck_array\u001b[0;34m(array, accept_sparse, accept_large_sparse, dtype, order, copy, force_all_finite, ensure_2d, allow_nd, ensure_min_samples, ensure_min_features, warn_on_dtype, estimator)\u001b[0m\n\u001b[1;32m    554\u001b[0m                     \u001b[0;34m\"Reshape your data either using array.reshape(-1, 1) if \"\u001b[0m\u001b[0;34m\u001b[0m\u001b[0;34m\u001b[0m\u001b[0m\n\u001b[1;32m    555\u001b[0m                     \u001b[0;34m\"your data has a single feature or array.reshape(1, -1) \"\u001b[0m\u001b[0;34m\u001b[0m\u001b[0;34m\u001b[0m\u001b[0m\n\u001b[0;32m--> 556\u001b[0;31m                     \"if it contains a single sample.\".format(array))\n\u001b[0m\u001b[1;32m    557\u001b[0m \u001b[0;34m\u001b[0m\u001b[0m\n\u001b[1;32m    558\u001b[0m         \u001b[0;31m# in the future np.flexible dtypes will be handled like object dtypes\u001b[0m\u001b[0;34m\u001b[0m\u001b[0;34m\u001b[0m\u001b[0;34m\u001b[0m\u001b[0m\n",
            "\u001b[0;31mValueError\u001b[0m: Expected 2D array, got 1D array instead:\narray=[113.6 118.1 119.9 126.2 126.7 127.3 128.2 129.5 130.5 131.6 131.7 132.2\n 132.4 132.8 132.8 133.6 133.8 134.1 134.3 134.6 135.2 135.2 135.5 135.6\n 136.1 136.2 136.3 136.4 136.7 136.8 136.9 137.3 137.4 137.6 137.6 137.6\n 138.  138.2 138.3 138.3 138.3 138.5 138.9 139.2 139.5 139.5 140.  140.1\n 140.2 140.3 140.3 140.6 140.7 141.  141.3 141.3 141.3 141.3 141.5 142.\n 142.  142.3 142.3 142.4 142.7 142.9 143.  143.1 143.5 143.6 143.7 143.7\n 143.7 143.9 144.  144.5 144.6 144.6 144.7 145.  145.2 145.4 145.4 145.7\n 145.7 145.7 145.9 146.  147.2 147.4 147.6 148.  148.1 148.1 151.  151.2\n 153.9 115.6 123.  124.4 136.1 136.9 138.6 139.7 139.8 141.3 143.7 144.2\n 146.4 147.8 147.9 142.3 125.1 140.8 122.4 133.2 138.9 143.1 139.7 140.4\n 116.6 137.4 143.  143.2 140.8 140.7 130.8 131.8 120.6 140.1 133.  122.9\n 143.  139.5 137.5 136.7 145.9 143.1 128.5 141.1 150.9 144.6 143.3 146.5\n 143.5 150.2 148.3 143.1 135.7 143.4 133.  143.2 137.  140.8 132.8 134.7\n 142.4 141.2 111.9  84.3 109.8  83.8  86.1  92.   71.4  77.9  75.2 113.1\n  71.4  81.4  74.8  62.7  75.8  74.2  72.4  83.6  31.1  40.5  88.3  98.2\n 102.1 116.1 135.6 143.2 142.9 123.4 125.5 129.5 120.1 122.5 123.3 127.8\n 134.7 128.6 124.2 125.5 131.4 136.1 110.6 122.3 134.1 138.3 133.3 149.8\n 149.2 142.5 104.6 127.1 129.8 121.1 119.2 110.9 122.5 119.3 118.2 137.5\n 148.9 131.3 126.9 129.3 144.3 137.2 139.  123.3 138.4 111.7 117.2 142.\n 130.  122.3 114.7 119.3 131.7 120.3 136.2 154.5 109.5 139.2 108.3 128.5\n 144.5 123.3 117.7 119.7 113.6 148.2 155.1 131.  132.2 144.9 112.5 124.1\n 113.9 135.5 142.4 121.3 136.7 122.  125.6 149.9 123.3 133.6 138.8 110.7\n 111.5 124.8 126.2 138.6 125.2 126.2 145.1 126.  110.5 140.5 128.6 103.9\n 118.9 131.  141.4 139.2 119.8 115.  139.8 144.5 134.7 126.1 130.4 120.8\n 119.2 132.3 106.3 125.7 107.6 128.5 119.5 116.2 112.3 115.6 119.  113.6\n 111.6 112.7 117.5 136.3 125.2 128.9 132.  140.4 121.6 108.6 111.8 107.2\n 115.9 121.4 137.4 133.7 115.7 122.2 126.2 125.5 128.3 112.9 110.8 111.\n 125.3 110.9 137.7 126.6 112.  130.5 119.6 108.8 132.9 126.  130.8 111.9\n 120.7 135.7 112.6 123.1 121.  119.9 113.6 122.7 140.  125.5 122.1 140.7\n 127.  127.6 122.6 135.  119.4 130.4 125.  108.9 114.8 121.6 134.8 133.9\n 128.1 115.3 120.9 130.2 132.7 108.  133.9 128.1 115.3 120.9 130.2 132.7\n 108.  118.7 120.  109.1 124.1 133.2 139.6 133.9 137.2 143.1 128.8 121.7\n 116.3 130.1 146.4 118.9 132.9 135.2 135.  125.4 126.7 125.  133.2 124.3\n 115.3 136.8 137.6 147.5 147.5 136.  113.3 126.3 129.6 116.3 116.6 120.9\n 131.  136.5 133.3 132.  131.4 135.8 118.6 129.8 141.2 132.  118.7 141.5\n 130.7 137.7 143.  134.7 131.2 125.9 144.8 128.5 143.4 141.7 139.2 115.8\n 137.2 131.  141.9 133.4 134.3 137.9 138.6 130.8 138.1 121.9 136.9 138.6\n 141.4 132.2 124.5 125.7 119.3 140.7 139.6 139.6 138.  134.8 124.4 132.6\n 125.1 135.3 139.1 129.7 134.9 118.7 138.3 131.2 135.2 119.4 148.1 135.9\n 135.6 129.6 134.1 114.4].\nReshape your data either using array.reshape(-1, 1) if your data has a single feature or array.reshape(1, -1) if it contains a single sample."
          ]
        }
      ]
    },
    {
      "cell_type": "code",
      "metadata": {
        "colab": {
          "base_uri": "https://localhost:8080/",
          "height": 359
        },
        "id": "PFgdnwgF_Rcv",
        "outputId": "3083cae5-69e2-4c1b-ae69-a291d5794459"
      },
      "source": [
        "import pandas as pd\n",
        "data = pd.read_csv('https://raw.githubusercontent.com/huynhhoc/DataAnalystDeepLearning/main/Data/04_CIGARET.csv')\n",
        "data.head(10)"
      ],
      "execution_count": 8,
      "outputs": [
        {
          "output_type": "execute_result",
          "data": {
            "text/html": [
              "<div>\n",
              "<style scoped>\n",
              "    .dataframe tbody tr th:only-of-type {\n",
              "        vertical-align: middle;\n",
              "    }\n",
              "\n",
              "    .dataframe tbody tr th {\n",
              "        vertical-align: top;\n",
              "    }\n",
              "\n",
              "    .dataframe thead th {\n",
              "        text-align: right;\n",
              "    }\n",
              "</style>\n",
              "<table border=\"1\" class=\"dataframe\">\n",
              "  <thead>\n",
              "    <tr style=\"text-align: right;\">\n",
              "      <th></th>\n",
              "      <th>KgTar</th>\n",
              "      <th>KgNic</th>\n",
              "      <th>KgCO</th>\n",
              "      <th>MnTar</th>\n",
              "      <th>MnNic</th>\n",
              "      <th>MnCO</th>\n",
              "      <th>FLTar</th>\n",
              "      <th>FLNic</th>\n",
              "      <th>FLCO</th>\n",
              "    </tr>\n",
              "  </thead>\n",
              "  <tbody>\n",
              "    <tr>\n",
              "      <th>0</th>\n",
              "      <td>20</td>\n",
              "      <td>1.1</td>\n",
              "      <td>16</td>\n",
              "      <td>16</td>\n",
              "      <td>1.1</td>\n",
              "      <td>15</td>\n",
              "      <td>5</td>\n",
              "      <td>0.4</td>\n",
              "      <td>4</td>\n",
              "    </tr>\n",
              "    <tr>\n",
              "      <th>1</th>\n",
              "      <td>27</td>\n",
              "      <td>1.7</td>\n",
              "      <td>16</td>\n",
              "      <td>13</td>\n",
              "      <td>0.8</td>\n",
              "      <td>17</td>\n",
              "      <td>16</td>\n",
              "      <td>1.0</td>\n",
              "      <td>19</td>\n",
              "    </tr>\n",
              "    <tr>\n",
              "      <th>2</th>\n",
              "      <td>27</td>\n",
              "      <td>1.7</td>\n",
              "      <td>16</td>\n",
              "      <td>16</td>\n",
              "      <td>1.0</td>\n",
              "      <td>19</td>\n",
              "      <td>17</td>\n",
              "      <td>1.2</td>\n",
              "      <td>17</td>\n",
              "    </tr>\n",
              "    <tr>\n",
              "      <th>3</th>\n",
              "      <td>20</td>\n",
              "      <td>1.1</td>\n",
              "      <td>16</td>\n",
              "      <td>9</td>\n",
              "      <td>0.9</td>\n",
              "      <td>9</td>\n",
              "      <td>13</td>\n",
              "      <td>0.8</td>\n",
              "      <td>18</td>\n",
              "    </tr>\n",
              "    <tr>\n",
              "      <th>4</th>\n",
              "      <td>20</td>\n",
              "      <td>1.1</td>\n",
              "      <td>16</td>\n",
              "      <td>14</td>\n",
              "      <td>0.8</td>\n",
              "      <td>17</td>\n",
              "      <td>13</td>\n",
              "      <td>0.8</td>\n",
              "      <td>18</td>\n",
              "    </tr>\n",
              "    <tr>\n",
              "      <th>5</th>\n",
              "      <td>24</td>\n",
              "      <td>1.4</td>\n",
              "      <td>17</td>\n",
              "      <td>13</td>\n",
              "      <td>0.8</td>\n",
              "      <td>17</td>\n",
              "      <td>14</td>\n",
              "      <td>1.0</td>\n",
              "      <td>13</td>\n",
              "    </tr>\n",
              "    <tr>\n",
              "      <th>6</th>\n",
              "      <td>20</td>\n",
              "      <td>1.1</td>\n",
              "      <td>16</td>\n",
              "      <td>12</td>\n",
              "      <td>0.8</td>\n",
              "      <td>15</td>\n",
              "      <td>15</td>\n",
              "      <td>1.1</td>\n",
              "      <td>17</td>\n",
              "    </tr>\n",
              "    <tr>\n",
              "      <th>7</th>\n",
              "      <td>23</td>\n",
              "      <td>1.4</td>\n",
              "      <td>15</td>\n",
              "      <td>14</td>\n",
              "      <td>0.8</td>\n",
              "      <td>17</td>\n",
              "      <td>15</td>\n",
              "      <td>1.1</td>\n",
              "      <td>15</td>\n",
              "    </tr>\n",
              "    <tr>\n",
              "      <th>8</th>\n",
              "      <td>20</td>\n",
              "      <td>1.0</td>\n",
              "      <td>16</td>\n",
              "      <td>14</td>\n",
              "      <td>0.9</td>\n",
              "      <td>15</td>\n",
              "      <td>15</td>\n",
              "      <td>1.1</td>\n",
              "      <td>15</td>\n",
              "    </tr>\n",
              "    <tr>\n",
              "      <th>9</th>\n",
              "      <td>22</td>\n",
              "      <td>1.2</td>\n",
              "      <td>14</td>\n",
              "      <td>13</td>\n",
              "      <td>0.8</td>\n",
              "      <td>17</td>\n",
              "      <td>9</td>\n",
              "      <td>0.8</td>\n",
              "      <td>12</td>\n",
              "    </tr>\n",
              "  </tbody>\n",
              "</table>\n",
              "</div>"
            ],
            "text/plain": [
              "   KgTar  KgNic  KgCO  MnTar  MnNic  MnCO  FLTar  FLNic  FLCO\n",
              "0     20    1.1    16     16    1.1    15      5    0.4     4\n",
              "1     27    1.7    16     13    0.8    17     16    1.0    19\n",
              "2     27    1.7    16     16    1.0    19     17    1.2    17\n",
              "3     20    1.1    16      9    0.9     9     13    0.8    18\n",
              "4     20    1.1    16     14    0.8    17     13    0.8    18\n",
              "5     24    1.4    17     13    0.8    17     14    1.0    13\n",
              "6     20    1.1    16     12    0.8    15     15    1.1    17\n",
              "7     23    1.4    15     14    0.8    17     15    1.1    15\n",
              "8     20    1.0    16     14    0.9    15     15    1.1    15\n",
              "9     22    1.2    14     13    0.8    17      9    0.8    12"
            ]
          },
          "metadata": {},
          "execution_count": 8
        }
      ]
    },
    {
      "cell_type": "code",
      "metadata": {
        "colab": {
          "base_uri": "https://localhost:8080/"
        },
        "id": "_2HOwzt0_UsY",
        "outputId": "2bb99632-be2e-4225-b57c-f98e95ac9fb0"
      },
      "source": [
        "import statsmodels.formula.api as smf\n",
        "res = smf.ols('KgNic~KgTar+KgCO',data).fit()\n",
        "print(res.summary())"
      ],
      "execution_count": 9,
      "outputs": [
        {
          "output_type": "stream",
          "name": "stderr",
          "text": [
            "/usr/local/lib/python3.7/dist-packages/statsmodels/tools/_testing.py:19: FutureWarning: pandas.util.testing is deprecated. Use the functions in the public API at pandas.testing instead.\n",
            "  import pandas.util.testing as tm\n"
          ]
        },
        {
          "output_type": "stream",
          "name": "stdout",
          "text": [
            "                            OLS Regression Results                            \n",
            "==============================================================================\n",
            "Dep. Variable:                  KgNic   R-squared:                       0.099\n",
            "Model:                            OLS   Adj. R-squared:                  0.017\n",
            "Method:                 Least Squares   F-statistic:                     1.211\n",
            "Date:                Sat, 13 Nov 2021   Prob (F-statistic):              0.317\n",
            "Time:                        01:51:03   Log-Likelihood:                 2.7726\n",
            "No. Observations:                  25   AIC:                            0.4548\n",
            "Df Residuals:                      22   BIC:                             4.111\n",
            "Df Model:                           2                                         \n",
            "Covariance Type:            nonrobust                                         \n",
            "==============================================================================\n",
            "                 coef    std err          t      P>|t|      [0.025      0.975]\n",
            "------------------------------------------------------------------------------\n",
            "Intercept      1.5937      0.793      2.010      0.057      -0.051       3.238\n",
            "KgTar          0.0231      0.016      1.480      0.153      -0.009       0.055\n",
            "KgCO          -0.0525      0.054     -0.975      0.340      -0.164       0.059\n",
            "==============================================================================\n",
            "Omnibus:                       17.071   Durbin-Watson:                   1.655\n",
            "Prob(Omnibus):                  0.000   Jarque-Bera (JB):               18.215\n",
            "Skew:                           1.721   Prob(JB):                     0.000111\n",
            "Kurtosis:                       5.376   Cond. No.                         456.\n",
            "==============================================================================\n",
            "\n",
            "Warnings:\n",
            "[1] Standard Errors assume that the covariance matrix of the errors is correctly specified.\n"
          ]
        }
      ]
    }
  ]
}