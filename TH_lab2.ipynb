{
  "nbformat": 4,
  "nbformat_minor": 0,
  "metadata": {
    "colab": {
      "name": "TH-lab2.ipynb",
      "provenance": [],
      "authorship_tag": "ABX9TyOXTfEPUyXh/mUwvSgU4N0a",
      "include_colab_link": true
    },
    "kernelspec": {
      "name": "python3",
      "display_name": "Python 3"
    },
    "language_info": {
      "name": "python"
    }
  },
  "cells": [
    {
      "cell_type": "markdown",
      "metadata": {
        "id": "view-in-github",
        "colab_type": "text"
      },
      "source": [
        "<a href=\"https://colab.research.google.com/github/HoangKmap/DataAnalystDeepLearning/blob/main/TH_lab2.ipynb\" target=\"_parent\"><img src=\"https://colab.research.google.com/assets/colab-badge.svg\" alt=\"Open In Colab\"/></a>"
      ]
    },
    {
      "cell_type": "code",
      "metadata": {
        "colab": {
          "base_uri": "https://localhost:8080/"
        },
        "id": "EO7yC1Cxhy6E",
        "outputId": "5cdaa9d4-7d9c-4f00-aa44-198b730483e8"
      },
      "source": [
        "import pandas as pd\n",
        "import numpy as np\n",
        "import matplotlib.pyplot as plt\n",
        "\n",
        "df = pd.read_csv(\"https://raw.githubusercontent.com/Hung621/DataAnalystDeepLearning/main/Lab01/processed_dulieuxettuyendaihoc.csv\", index_col= \"STT\")\n",
        "print(df)"
      ],
      "execution_count": 1,
      "outputs": [
        {
          "output_type": "stream",
          "name": "stdout",
          "text": [
            "      T1   L1   H1   S1   V1   X1  ...  XL2  XL3  US_TBM1  US_TBM2  US_TBM3  KQXT\n",
            "STT                                ...                                           \n",
            "1    7.2  7.3  6.3  7.3  7.0  7.9  ...    K    K    2.800    3.016    2.804   rớt\n",
            "2    5.4  3.9  3.9  4.0  5.4  5.4  ...   TB   TB    1.876    2.188    2.028   rớt\n",
            "3    5.6  6.8  7.2  7.5  4.3  7.4  ...   TB   TB    2.308    2.152    2.416   đậu\n",
            "4    6.6  6.4  5.3  6.9  5.4  7.3  ...   TB    K    2.484    2.080    2.752   rớt\n",
            "5    6.0  5.0  6.0  7.3  6.5  7.7  ...   TB    K    2.600    2.544    2.796   rớt\n",
            "..   ...  ...  ...  ...  ...  ...  ...  ...  ...      ...      ...      ...   ...\n",
            "96   8.6  6.9  7.4  8.8  7.6  5.8  ...    K    K    2.972    2.968    2.732   rớt\n",
            "97   3.7  5.4  6.0  5.1  5.5  3.9  ...   TB   TB    1.972    2.060    2.556   rớt\n",
            "98   8.8  5.5  7.4  7.7  6.2  7.3  ...    K    K    2.820    3.136    3.068   đậu\n",
            "99   2.7  1.8  3.4  5.3  4.5  7.9  ...    Y   TB    1.660    1.888    2.116   rớt\n",
            "100  4.1  5.2  4.9  5.3  5.5  5.4  ...   TB   TB    2.104    2.288    2.340   rớt\n",
            "\n",
            "[100 rows x 65 columns]\n"
          ]
        }
      ]
    },
    {
      "cell_type": "code",
      "metadata": {
        "id": "Qy17O5X9h4MI"
      },
      "source": [
        ""
      ],
      "execution_count": null,
      "outputs": []
    }
  ]
}