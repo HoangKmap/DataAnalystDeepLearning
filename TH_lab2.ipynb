{
  "nbformat": 4,
  "nbformat_minor": 0,
  "metadata": {
    "colab": {
      "name": "TH-lab2.ipynb",
      "provenance": [],
      "authorship_tag": "ABX9TyMLjSQxAWAYQhVNahE6l0II",
      "include_colab_link": true
    },
    "kernelspec": {
      "name": "python3",
      "display_name": "Python 3"
    },
    "language_info": {
      "name": "python"
    }
  },
  "cells": [
    {
      "cell_type": "markdown",
      "metadata": {
        "id": "view-in-github",
        "colab_type": "text"
      },
      "source": [
        "<a href=\"https://colab.research.google.com/github/HoangKmap/DataAnalystDeepLearning/blob/main/TH_lab2.ipynb\" target=\"_parent\"><img src=\"https://colab.research.google.com/assets/colab-badge.svg\" alt=\"Open In Colab\"/></a>"
      ]
    },
    {
      "cell_type": "code",
      "metadata": {
        "colab": {
          "base_uri": "https://localhost:8080/"
        },
        "id": "EO7yC1Cxhy6E",
        "outputId": "5cdaa9d4-7d9c-4f00-aa44-198b730483e8"
      },
      "source": [
        "import pandas as pd\n",
        "import numpy as np\n",
        "import matplotlib.pyplot as plt\n",
        "\n",
        "df = pd.read_csv(\"https://raw.githubusercontent.com/Hung621/DataAnalystDeepLearning/main/Lab01/processed_dulieuxettuyendaihoc.csv\", index_col= \"STT\")\n",
        "print(df)"
      ],
      "execution_count": 1,
      "outputs": [
        {
          "output_type": "stream",
          "name": "stdout",
          "text": [
            "      T1   L1   H1   S1   V1   X1  ...  XL2  XL3  US_TBM1  US_TBM2  US_TBM3  KQXT\n",
            "STT                                ...                                           \n",
            "1    7.2  7.3  6.3  7.3  7.0  7.9  ...    K    K    2.800    3.016    2.804   rớt\n",
            "2    5.4  3.9  3.9  4.0  5.4  5.4  ...   TB   TB    1.876    2.188    2.028   rớt\n",
            "3    5.6  6.8  7.2  7.5  4.3  7.4  ...   TB   TB    2.308    2.152    2.416   đậu\n",
            "4    6.6  6.4  5.3  6.9  5.4  7.3  ...   TB    K    2.484    2.080    2.752   rớt\n",
            "5    6.0  5.0  6.0  7.3  6.5  7.7  ...   TB    K    2.600    2.544    2.796   rớt\n",
            "..   ...  ...  ...  ...  ...  ...  ...  ...  ...      ...      ...      ...   ...\n",
            "96   8.6  6.9  7.4  8.8  7.6  5.8  ...    K    K    2.972    2.968    2.732   rớt\n",
            "97   3.7  5.4  6.0  5.1  5.5  3.9  ...   TB   TB    1.972    2.060    2.556   rớt\n",
            "98   8.8  5.5  7.4  7.7  6.2  7.3  ...    K    K    2.820    3.136    3.068   đậu\n",
            "99   2.7  1.8  3.4  5.3  4.5  7.9  ...    Y   TB    1.660    1.888    2.116   rớt\n",
            "100  4.1  5.2  4.9  5.3  5.5  5.4  ...   TB   TB    2.104    2.288    2.340   rớt\n",
            "\n",
            "[100 rows x 65 columns]\n"
          ]
        }
      ]
    },
    {
      "cell_type": "markdown",
      "metadata": {
        "id": "Ish_KRZriYIa"
      },
      "source": [
        "Phần 1: Thống kê dữ liệu\n",
        "\n",
        "Hãy sắp xếp dữ liệu điểm DH1 theo thứ tự tăng dần"
      ]
    },
    {
      "cell_type": "code",
      "metadata": {
        "colab": {
          "base_uri": "https://localhost:8080/"
        },
        "id": "JrMsZ3NUiZ3R",
        "outputId": "8b3e674e-49a3-4173-a1ef-aca243b9d311"
      },
      "source": [
        "print(df.sort_values(by='DH1'))"
      ],
      "execution_count": 2,
      "outputs": [
        {
          "output_type": "stream",
          "name": "stdout",
          "text": [
            "      T1   L1   H1   S1   V1   X1  ...  XL2  XL3  US_TBM1  US_TBM2  US_TBM3  KQXT\n",
            "STT                                ...                                           \n",
            "54   4.9  5.9  6.2  5.6  5.9  5.0  ...   TB   TB    2.276    2.504    2.408   rớt\n",
            "44   6.6  7.2  5.9  6.9  7.6  8.1  ...    K    K    2.820    2.644    2.708   rớt\n",
            "73   5.5  6.6  7.2  7.6  5.5  6.7  ...   TB   TB    2.480    2.352    2.488   rớt\n",
            "6    9.3  7.6  7.9  8.6  7.0  7.3  ...    G    K    3.184    3.416    2.952   rớt\n",
            "88   7.3  4.3  5.3  5.8  4.9  3.7  ...   TB   TB    2.176    2.312    2.592   rớt\n",
            "..   ...  ...  ...  ...  ...  ...  ...  ...  ...      ...      ...      ...   ...\n",
            "85   8.4  7.4  6.0  7.8  6.3  7.2  ...    K    K    2.892    3.108    3.032   đậu\n",
            "12   7.9  7.0  9.1  8.6  6.1  7.0  ...    K    K    2.972    3.088    2.996   đậu\n",
            "24   5.3  6.3  5.7  6.9  5.9  7.5  ...   TB    K    2.420    2.528    2.684   đậu\n",
            "25   2.4  4.1  3.6  5.5  5.9  5.6  ...    Y   TB    1.780    1.952    2.164   rớt\n",
            "98   8.8  5.5  7.4  7.7  6.2  7.3  ...    K    K    2.820    3.136    3.068   đậu\n",
            "\n",
            "[100 rows x 65 columns]\n"
          ]
        }
      ]
    },
    {
      "cell_type": "markdown",
      "metadata": {
        "id": "-0HXNUKiiiPL"
      },
      "source": [
        "Hãy sắp xếp dữ liệu điểm DH2 tăng dần theo nhóm giới tính"
      ]
    },
    {
      "cell_type": "code",
      "metadata": {
        "colab": {
          "base_uri": "https://localhost:8080/"
        },
        "id": "syd8EMh2ijDP",
        "outputId": "7df4c40f-22c2-492f-9fc3-d0a020b807c6"
      },
      "source": [
        "print(df.sort_values(by=['GT','DH2']))"
      ],
      "execution_count": 3,
      "outputs": [
        {
          "output_type": "stream",
          "name": "stdout",
          "text": [
            "      T1   L1   H1   S1   V1   X1  ...  XL2  XL3  US_TBM1  US_TBM2  US_TBM3  KQXT\n",
            "STT                                ...                                           \n",
            "96   8.6  6.9  7.4  8.8  7.6  5.8  ...    K    K    2.972    2.968    2.732   rớt\n",
            "26   3.6  5.8  6.9  6.1  5.5  7.2  ...   TB   TB    2.160    2.080    2.036   rớt\n",
            "25   2.4  4.1  3.6  5.5  5.9  5.6  ...    Y   TB    1.780    1.952    2.164   rớt\n",
            "47   6.7  6.8  6.4  5.9  5.6  6.4  ...    K   TB    2.596    2.604    2.464   rớt\n",
            "14   4.9  5.4  5.0  5.0  5.8  7.0  ...   TB   TB    2.152    2.204    2.504   rớt\n",
            "..   ...  ...  ...  ...  ...  ...  ...  ...  ...      ...      ...      ...   ...\n",
            "69   7.3  6.4  6.9  7.5  6.2  8.4  ...    K    G    2.876    3.080    3.200   rớt\n",
            "12   7.9  7.0  9.1  8.6  6.1  7.0  ...    K    K    2.972    3.088    2.996   đậu\n",
            "48   7.9  7.6  8.4  8.6  6.2  7.5  ...    K    K    3.068    2.996    2.844   đậu\n",
            "3    5.6  6.8  7.2  7.5  4.3  7.4  ...   TB   TB    2.308    2.152    2.416   đậu\n",
            "98   8.8  5.5  7.4  7.7  6.2  7.3  ...    K    K    2.820    3.136    3.068   đậu\n",
            "\n",
            "[100 rows x 65 columns]\n"
          ]
        }
      ]
    },
    {
      "cell_type": "markdown",
      "metadata": {
        "id": "gWks0VRpilwq"
      },
      "source": [
        "Hãy tạo pivot-table để thống kê các giá trị count, sum, mean, median, min, max, std, Q1, Q2 và Q3 của DH1 theo KT"
      ]
    },
    {
      "cell_type": "code",
      "metadata": {
        "colab": {
          "base_uri": "https://localhost:8080/"
        },
        "id": "XZHq17pKino2",
        "outputId": "e21b57b9-3688-4a93-cd5f-93affb407edc"
      },
      "source": [
        "def Q1(g):\n",
        "  return np.percentile(g,25)\n",
        "\n",
        "def Q2(g):\n",
        "  return np.percentile(g,50)\n",
        "\n",
        "def Q3(g):\n",
        "  return np.percentile(g,75)\n",
        "\n",
        "def std(g):\n",
        "  return np.std(g)\n",
        "\n",
        "pivot_table_KT = pd.pivot_table(data=df, index='KT',values='DH1', aggfunc=['sum','mean','median','min','max',std,Q1,Q2,Q3])\n",
        "print(pivot_table_KT)"
      ],
      "execution_count": 4,
      "outputs": [
        {
          "output_type": "stream",
          "name": "stdout",
          "text": [
            "       sum      mean median   min   max       std      Q1    Q2     Q3\n",
            "       DH1       DH1    DH1   DH1   DH1       DH1     DH1   DH1    DH1\n",
            "KT                                                                    \n",
            "A   163.50  3.336735   3.25  1.00  6.50  1.261226  2.2500  3.25  4.250\n",
            "A1   17.50  2.916667   3.00  2.00  4.25  0.786165  2.1875  3.00  3.250\n",
            "B    29.50  3.277778   3.50  1.75  4.50  0.776785  3.2500  3.50  3.750\n",
            "C    79.25  5.660714   5.25  4.75  7.00  0.782665  5.0625  5.25  6.375\n",
            "D1   84.25  3.829545   3.75  1.25  6.75  1.338644  3.0000  3.75  4.875\n"
          ]
        }
      ]
    },
    {
      "cell_type": "markdown",
      "metadata": {
        "id": "EEIOIMKoirTK"
      },
      "source": [
        "Hãy tạo pivot-table để thống kê các giá trị count, sum, mean, median, min, max, std, Q1, Q2 và Q3 của DH1 theo KT và KV"
      ]
    },
    {
      "cell_type": "code",
      "metadata": {
        "colab": {
          "base_uri": "https://localhost:8080/"
        },
        "id": "UIXV3ZtUiuJR",
        "outputId": "019e65da-b1fb-45e9-834d-9d7a3b3ec577"
      },
      "source": [
        "def Q1(g):\n",
        "  return np.percentile(g,25)\n",
        "\n",
        "def Q2(g):\n",
        "  return np.percentile(g,50)\n",
        "\n",
        "def Q3(g):\n",
        "  return np.percentile(g,75)\n",
        "\n",
        "def std(g):\n",
        "  return np.std(g)\n",
        "\n",
        "pivot_table_KT_KV = pd.pivot_table(data=df, index=['KT','KV'],values='DH1', aggfunc=['sum','mean','median','min','max',std,Q1,Q2,Q3])\n",
        "print(pivot_table_KT_KV)"
      ],
      "execution_count": 5,
      "outputs": [
        {
          "output_type": "stream",
          "name": "stdout",
          "text": [
            "          sum      mean median   min   max       std      Q1     Q2      Q3\n",
            "          DH1       DH1    DH1   DH1   DH1       DH1     DH1    DH1     DH1\n",
            "KT KV                                                                      \n",
            "A  1    93.75  3.232759  3.250  1.00  6.50  1.345380  2.0000  3.250  4.2500\n",
            "   2    31.75  3.527778  3.500  2.00  6.25  1.346005  2.2500  3.500  4.2500\n",
            "   2NT  38.00  3.454545  3.500  2.00  4.75  0.871377  2.8750  3.500  4.1250\n",
            "A1 1     4.75  2.375000  2.375  2.00  2.75  0.375000  2.1875  2.375  2.5625\n",
            "   2NT  12.75  3.187500  3.250  2.00  4.25  0.797947  2.9375  3.250  3.5000\n",
            "B  1    25.75  3.218750  3.375  1.75  4.50  0.804650  3.0000  3.375  3.5625\n",
            "   2NT   3.75  3.750000  3.750  3.75  3.75  0.000000  3.7500  3.750  3.7500\n",
            "C  1    43.50  5.437500  5.250  4.75  7.00  0.681795  5.0000  5.250  5.4375\n",
            "   2    11.50  5.750000  5.750  5.00  6.50  0.750000  5.3750  5.750  6.1250\n",
            "   2NT  24.25  6.062500  6.000  5.25  7.00  0.817294  5.2500  6.000  6.8125\n",
            "D1 1    46.75  3.596154  3.500  1.50  5.75  1.215044  2.7500  3.500  4.2500\n",
            "   2    33.75  4.218750  4.500  1.25  6.75  1.512642  3.5625  4.500  5.0000\n",
            "   2NT   3.75  3.750000  3.750  3.75  3.75  0.000000  3.7500  3.750  3.7500\n"
          ]
        }
      ]
    },
    {
      "cell_type": "markdown",
      "metadata": {
        "id": "FODSdTjuixmw"
      },
      "source": [
        "Hãy tạo pivot-table để thống kê các giá trị count, sum, mean, median, min, max, sdt, Q1, Q2 và Q3 của DH1 theo KT, KV và DT"
      ]
    },
    {
      "cell_type": "code",
      "metadata": {
        "colab": {
          "base_uri": "https://localhost:8080/"
        },
        "id": "FPr1vmx6izfp",
        "outputId": "e0c4b916-8e60-4541-b16f-3e14b7c7f15d"
      },
      "source": [
        "def Q1(g):\n",
        "  return np.percentile(g,25)\n",
        "\n",
        "def Q2(g):\n",
        "  return np.percentile(g,50)\n",
        "\n",
        "def Q3(g):\n",
        "  return np.percentile(g,75)\n",
        "\n",
        "def std(g):\n",
        "  return np.std(g)\n",
        "\n",
        "pivot_table_KT_KV_DT = pd.pivot_table(data=df, index=['KT','KV','DT'],values='DH1', aggfunc=['sum','mean','median','min','max',std,Q1,Q2,Q3])\n",
        "print(pivot_table_KT_KV_DT)"
      ],
      "execution_count": 6,
      "outputs": [
        {
          "output_type": "stream",
          "name": "stdout",
          "text": [
            "              sum      mean median   min   max       std      Q1     Q2      Q3\n",
            "              DH1       DH1    DH1   DH1   DH1       DH1     DH1    DH1     DH1\n",
            "KT KV  DT                                                                      \n",
            "A  1   0.0  93.75  3.232759  3.250  1.00  6.50  1.345380  2.0000  3.250  4.2500\n",
            "   2   0.0  27.50  3.437500  3.000  2.00  6.25  1.401729  2.2500  3.000  4.1875\n",
            "       6.0   4.25  4.250000  4.250  4.25  4.25  0.000000  4.2500  4.250  4.2500\n",
            "   2NT 0.0  38.00  3.454545  3.500  2.00  4.75  0.871377  2.8750  3.500  4.1250\n",
            "A1 1   0.0   4.75  2.375000  2.375  2.00  2.75  0.375000  2.1875  2.375  2.5625\n",
            "   2NT 0.0  12.75  3.187500  3.250  2.00  4.25  0.797947  2.9375  3.250  3.5000\n",
            "B  1   0.0  25.75  3.218750  3.375  1.75  4.50  0.804650  3.0000  3.375  3.5625\n",
            "   2NT 0.0   3.75  3.750000  3.750  3.75  3.75  0.000000  3.7500  3.750  3.7500\n",
            "C  1   0.0  43.50  5.437500  5.250  4.75  7.00  0.681795  5.0000  5.250  5.4375\n",
            "   2   0.0  11.50  5.750000  5.750  5.00  6.50  0.750000  5.3750  5.750  6.1250\n",
            "   2NT 0.0  24.25  6.062500  6.000  5.25  7.00  0.817294  5.2500  6.000  6.8125\n",
            "D1 1   0.0  43.75  3.645833  3.625  1.50  5.75  1.251908  2.6875  3.625  4.4375\n",
            "       1.0   3.00  3.000000  3.000  3.00  3.00  0.000000  3.0000  3.000  3.0000\n",
            "   2   0.0  32.50  4.642857  4.500  3.00  6.75  1.084445  4.1250  4.500  5.0000\n",
            "       1.0   1.25  1.250000  1.250  1.25  1.25  0.000000  1.2500  1.250  1.2500\n",
            "   2NT 0.0   3.75  3.750000  3.750  3.75  3.75  0.000000  3.7500  3.750  3.7500\n"
          ]
        }
      ]
    }
  ]
}